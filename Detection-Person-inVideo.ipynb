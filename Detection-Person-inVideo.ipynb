{
 "cells": [
  {
   "cell_type": "code",
   "execution_count": 1,
   "metadata": {},
   "outputs": [],
   "source": [
    "import cv2\n",
    "import numpy as np"
   ]
  },
  {
   "cell_type": "code",
   "execution_count": 2,
   "metadata": {},
   "outputs": [],
   "source": [
    "video = cv2.VideoCapture('pedestrian.mp4')\n",
    "i = 1\n",
    "path = 'Latihen/haar_cascade'\n",
    "  "
   ]
  },
  {
   "cell_type": "code",
   "execution_count": null,
   "metadata": {},
   "outputs": [],
   "source": [
    "while True:\n",
    "    i = i+1\n",
    "    check, frame = video.read()\n",
    "    if check == False:\n",
    "        break\n",
    "    frame = cv2.resize(frame, (500,500))\n",
    "    \n",
    "    face_cascade = cv2.CascadeClassifier(path+\"\\\\haarcascade_frontalcatface.xml\")\n",
    "    fullbody_cascade = cv2.CascadeClassifier(path+\"\\\\haarcascade_fullbody.xml\")\n",
    "    \n",
    "    faces = face_cascade.detectMultiScale(frame, 1.05, 5)\n",
    "    fullbody = fullbody_cascade.detectMultiScale(frame, 1.05, 5)\n",
    "    \n",
    "    for x,y,w,h in faces:\n",
    "        rec_img = cv2.rectangle(frame, (x,y), (x+w, y+h), (0,255,0), 0)\n",
    "        face_text = cv2.putText(frame, \"face\",(x,y+10),cv2.FONT_HERSHEY_COMPLEX_SMALL,.7,(0,255,0))\n",
    "    \n",
    "    for x,y,w,h in fullbody:\n",
    "        rec_img = cv2.rectangle(frame, (x,y), (x+w, y+h), (0,255,0) ,0)\n",
    "        body_text = cv2.putText(frame, \"fullbody\",(x,y+10),cv2.FONT_HERSHEY_COMPLEX_SMALL,.7(0,255,0))\n",
    "\n",
    "    cv2.imshow('vid_Res', frame)\n",
    "    if cv2.waitKey(1) & 0xFF == ord('q'):\n",
    "        break\n",
    "\n",
    "print (i)\n",
    "video.release\n",
    "cv2.destroyAllWindows()"
   ]
  },
  {
   "cell_type": "code",
   "execution_count": null,
   "metadata": {},
   "outputs": [],
   "source": []
  }
 ],
 "metadata": {
  "kernelspec": {
   "display_name": "Python 3",
   "language": "python",
   "name": "python3"
  },
  "language_info": {
   "codemirror_mode": {
    "name": "ipython",
    "version": 3
   },
   "file_extension": ".py",
   "mimetype": "text/x-python",
   "name": "python",
   "nbconvert_exporter": "python",
   "pygments_lexer": "ipython3",
   "version": "3.7.3"
  }
 },
 "nbformat": 4,
 "nbformat_minor": 2
}
